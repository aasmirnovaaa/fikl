{
 "cells": [
  {
   "cell_type": "markdown",
   "metadata": {},
   "source": [
    "### ДЗ 3\n",
    "#### 1. Преобразовать текст в формат:\n",
    "- [X] только леммы, без знаков препинания, все в нижнем регистре\n",
    "- [X] каждое предложение на отдельной строчке"
   ]
  },
  {
   "cell_type": "markdown",
   "metadata": {},
   "source": [
    "Поскольку нам нужен опять текст, хоть и в лемматизированной форме, то предыдущий json нам не поможет. Мы должны всё делать заново.\n",
    "Откроем файл снова:"
   ]
  },
  {
   "cell_type": "code",
   "execution_count": 6,
   "metadata": {},
   "outputs": [],
   "source": [
    "file_name = \"../hw2/white_guardian.txt\"  # Текстовый файл у нас в предыдущей директории\n",
    "with open(file_name, encoding='utf-8') as f:\n",
    "    text = f.read()"
   ]
  },
  {
   "cell_type": "markdown",
   "metadata": {},
   "source": [
    "Разобьём на предложения - из лекции по морфологии мы знаем, как:"
   ]
  },
  {
   "cell_type": "code",
   "execution_count": 17,
   "metadata": {},
   "outputs": [],
   "source": [
    "from nltk.tokenize import sent_tokenize\n",
    "\n",
    "sentences = sent_tokenize(text)"
   ]
  },
  {
   "cell_type": "markdown",
   "metadata": {},
   "source": [
    "Теперь нам надо всё перевести в нижний регистр, да выкинуть знаки препинания, а затем лемматизировать каждое предложение. Это можно сделать за один проход:"
   ]
  },
  {
   "cell_type": "code",
   "execution_count": 25,
   "metadata": {},
   "outputs": [
    {
     "name": "stdout",
     "output_type": "stream",
     "text": [
      "Wall time: 25 s\n"
     ]
    }
   ],
   "source": [
    "%%time\n",
    "from nltk.tokenize import word_tokenize\n",
    "from pymorphy2 import MorphAnalyzer\n",
    "import string\n",
    "\n",
    "punct_chars = list(string.punctuation)\n",
    "punct_chars.append(\"``\")  # эти символы здорово мешаются\n",
    "punct_chars.append(\"''\")\n",
    "punct_chars.append(\"...\")\n",
    "morph = MorphAnalyzer()\n",
    "\n",
    "sentences_file_name = \"sentences.txt\"  # имя файла, куда мы запишем лемматизированный текст\n",
    "sentences_list = \"\"  # строка, которую мы и запишем в файл\n",
    "for sentence in sentences:\n",
    "    tokenized_words = word_tokenize(sentence)  # токенизируем каждое предложение отдельно\n",
    "    # Уберём знаки препинания, используя для этого более удобный код, чем в 2.1\n",
    "    words = []\n",
    "    for word in tokenized_words:\n",
    "        if word not in punct_chars:\n",
    "            words.append(word)\n",
    "    # Возьмём начальную форму каждого слова и соберём в список\n",
    "    normal_forms = []\n",
    "    for word in words:\n",
    "        parsed_word = morph.parse(word)\n",
    "        normal_forms.append(parsed_word[0].normal_form)\n",
    "    sentences_list += (' '.join(normal_forms))  # Добавляем в нашу суперстроку через пробелы\n",
    "    sentences_list += ('\\n')  # И не забываем символ переноса строки\n",
    "with open(sentences_file_name, 'w', encoding='utf-8') as f:\n",
    "    text = f.write(sentences_list)"
   ]
  },
  {
   "cell_type": "markdown",
   "metadata": {},
   "source": [
    "#### 2. Обучить модель как показано в конспекте с параметрами\n",
    "* размер вектора 300\n",
    "* минимальное количество вхождений 5\n",
    "* окно 5\n",
    "* количество итераций 50"
   ]
  },
  {
   "cell_type": "code",
   "execution_count": 33,
   "metadata": {},
   "outputs": [
    {
     "name": "stderr",
     "output_type": "stream",
     "text": [
      "2020-02-14 19:39:42,156 : INFO : collecting all words and their counts\n",
      "2020-02-14 19:39:42,158 : INFO : PROGRESS: at sentence #0, processed 0 words, keeping 0 word types\n",
      "2020-02-14 19:39:42,218 : INFO : collected 10096 word types from a corpus of 71164 raw words and 6435 sentences\n",
      "2020-02-14 19:39:42,220 : INFO : Loading a fresh vocabulary\n",
      "2020-02-14 19:39:42,229 : INFO : effective_min_count=5 retains 2259 unique words (22% of original 10096, drops 7837)\n",
      "2020-02-14 19:39:42,230 : INFO : effective_min_count=5 leaves 58144 word corpus (81% of original 71164, drops 13020)\n",
      "2020-02-14 19:39:42,243 : INFO : deleting the raw counts dictionary of 10096 items\n",
      "2020-02-14 19:39:42,245 : INFO : sample=0.001 downsamples 48 most-common words\n",
      "2020-02-14 19:39:42,247 : INFO : downsampling leaves estimated 45153 word corpus (77.7% of prior 58144)\n",
      "2020-02-14 19:39:42,256 : INFO : estimated required memory for 2259 words and 300 dimensions: 6551100 bytes\n",
      "2020-02-14 19:39:42,258 : INFO : resetting layer weights\n",
      "2020-02-14 19:39:42,902 : INFO : training model with 3 workers on 2259 vocabulary and 300 features, using sg=0 hs=0 sample=0.001 negative=5 window=5\n",
      "2020-02-14 19:39:43,002 : INFO : worker thread finished; awaiting finish of 2 more threads\n",
      "2020-02-14 19:39:43,005 : INFO : worker thread finished; awaiting finish of 1 more threads\n",
      "2020-02-14 19:39:43,010 : INFO : worker thread finished; awaiting finish of 0 more threads\n",
      "2020-02-14 19:39:43,012 : INFO : EPOCH - 1 : training on 71164 raw words (45188 effective words) took 0.1s, 427878 effective words/s\n",
      "2020-02-14 19:39:43,097 : INFO : worker thread finished; awaiting finish of 2 more threads\n",
      "2020-02-14 19:39:43,107 : INFO : worker thread finished; awaiting finish of 1 more threads\n",
      "2020-02-14 19:39:43,116 : INFO : worker thread finished; awaiting finish of 0 more threads\n",
      "2020-02-14 19:39:43,117 : INFO : EPOCH - 2 : training on 71164 raw words (45163 effective words) took 0.1s, 457251 effective words/s\n",
      "2020-02-14 19:39:43,202 : INFO : worker thread finished; awaiting finish of 2 more threads\n",
      "2020-02-14 19:39:43,206 : INFO : worker thread finished; awaiting finish of 1 more threads\n",
      "2020-02-14 19:39:43,217 : INFO : worker thread finished; awaiting finish of 0 more threads\n",
      "2020-02-14 19:39:43,220 : INFO : EPOCH - 3 : training on 71164 raw words (45133 effective words) took 0.1s, 464390 effective words/s\n",
      "2020-02-14 19:39:43,298 : INFO : worker thread finished; awaiting finish of 2 more threads\n",
      "2020-02-14 19:39:43,304 : INFO : worker thread finished; awaiting finish of 1 more threads\n",
      "2020-02-14 19:39:43,314 : INFO : worker thread finished; awaiting finish of 0 more threads\n",
      "2020-02-14 19:39:43,316 : INFO : EPOCH - 4 : training on 71164 raw words (45110 effective words) took 0.1s, 486596 effective words/s\n",
      "2020-02-14 19:39:43,395 : INFO : worker thread finished; awaiting finish of 2 more threads\n",
      "2020-02-14 19:39:43,407 : INFO : worker thread finished; awaiting finish of 1 more threads\n",
      "2020-02-14 19:39:43,415 : INFO : worker thread finished; awaiting finish of 0 more threads\n",
      "2020-02-14 19:39:43,417 : INFO : EPOCH - 5 : training on 71164 raw words (45205 effective words) took 0.1s, 470070 effective words/s\n",
      "2020-02-14 19:39:43,497 : INFO : worker thread finished; awaiting finish of 2 more threads\n",
      "2020-02-14 19:39:43,503 : INFO : worker thread finished; awaiting finish of 1 more threads\n",
      "2020-02-14 19:39:43,515 : INFO : worker thread finished; awaiting finish of 0 more threads\n",
      "2020-02-14 19:39:43,517 : INFO : EPOCH - 6 : training on 71164 raw words (45091 effective words) took 0.1s, 472483 effective words/s\n",
      "2020-02-14 19:39:43,607 : INFO : worker thread finished; awaiting finish of 2 more threads\n",
      "2020-02-14 19:39:43,617 : INFO : worker thread finished; awaiting finish of 1 more threads\n",
      "2020-02-14 19:39:43,630 : INFO : worker thread finished; awaiting finish of 0 more threads\n",
      "2020-02-14 19:39:43,632 : INFO : EPOCH - 7 : training on 71164 raw words (45017 effective words) took 0.1s, 410056 effective words/s\n",
      "2020-02-14 19:39:43,721 : INFO : worker thread finished; awaiting finish of 2 more threads\n",
      "2020-02-14 19:39:43,728 : INFO : worker thread finished; awaiting finish of 1 more threads\n",
      "2020-02-14 19:39:43,738 : INFO : worker thread finished; awaiting finish of 0 more threads\n",
      "2020-02-14 19:39:43,741 : INFO : EPOCH - 8 : training on 71164 raw words (45191 effective words) took 0.1s, 438561 effective words/s\n",
      "2020-02-14 19:39:43,862 : INFO : worker thread finished; awaiting finish of 2 more threads\n",
      "2020-02-14 19:39:43,872 : INFO : worker thread finished; awaiting finish of 1 more threads\n",
      "2020-02-14 19:39:43,881 : INFO : worker thread finished; awaiting finish of 0 more threads\n",
      "2020-02-14 19:39:43,883 : INFO : EPOCH - 9 : training on 71164 raw words (45179 effective words) took 0.1s, 332277 effective words/s\n",
      "2020-02-14 19:39:43,967 : INFO : worker thread finished; awaiting finish of 2 more threads\n",
      "2020-02-14 19:39:43,973 : INFO : worker thread finished; awaiting finish of 1 more threads\n",
      "2020-02-14 19:39:43,982 : INFO : worker thread finished; awaiting finish of 0 more threads\n",
      "2020-02-14 19:39:43,984 : INFO : EPOCH - 10 : training on 71164 raw words (45120 effective words) took 0.1s, 477788 effective words/s\n",
      "2020-02-14 19:39:44,064 : INFO : worker thread finished; awaiting finish of 2 more threads\n",
      "2020-02-14 19:39:44,074 : INFO : worker thread finished; awaiting finish of 1 more threads\n",
      "2020-02-14 19:39:44,081 : INFO : worker thread finished; awaiting finish of 0 more threads\n",
      "2020-02-14 19:39:44,084 : INFO : EPOCH - 11 : training on 71164 raw words (45176 effective words) took 0.1s, 481531 effective words/s\n",
      "2020-02-14 19:39:44,167 : INFO : worker thread finished; awaiting finish of 2 more threads\n",
      "2020-02-14 19:39:44,173 : INFO : worker thread finished; awaiting finish of 1 more threads\n",
      "2020-02-14 19:39:44,181 : INFO : worker thread finished; awaiting finish of 0 more threads\n",
      "2020-02-14 19:39:44,183 : INFO : EPOCH - 12 : training on 71164 raw words (45192 effective words) took 0.1s, 481007 effective words/s\n",
      "2020-02-14 19:39:44,279 : INFO : worker thread finished; awaiting finish of 2 more threads\n",
      "2020-02-14 19:39:44,282 : INFO : worker thread finished; awaiting finish of 1 more threads\n",
      "2020-02-14 19:39:44,297 : INFO : worker thread finished; awaiting finish of 0 more threads\n",
      "2020-02-14 19:39:44,299 : INFO : EPOCH - 13 : training on 71164 raw words (45176 effective words) took 0.1s, 413275 effective words/s\n",
      "2020-02-14 19:39:44,409 : INFO : worker thread finished; awaiting finish of 2 more threads\n",
      "2020-02-14 19:39:44,416 : INFO : worker thread finished; awaiting finish of 1 more threads\n",
      "2020-02-14 19:39:44,424 : INFO : worker thread finished; awaiting finish of 0 more threads\n",
      "2020-02-14 19:39:44,426 : INFO : EPOCH - 14 : training on 71164 raw words (45158 effective words) took 0.1s, 378314 effective words/s\n",
      "2020-02-14 19:39:44,517 : INFO : worker thread finished; awaiting finish of 2 more threads\n",
      "2020-02-14 19:39:44,523 : INFO : worker thread finished; awaiting finish of 1 more threads\n",
      "2020-02-14 19:39:44,533 : INFO : worker thread finished; awaiting finish of 0 more threads\n",
      "2020-02-14 19:39:44,535 : INFO : EPOCH - 15 : training on 71164 raw words (45284 effective words) took 0.1s, 441254 effective words/s\n",
      "2020-02-14 19:39:44,614 : INFO : worker thread finished; awaiting finish of 2 more threads\n",
      "2020-02-14 19:39:44,621 : INFO : worker thread finished; awaiting finish of 1 more threads\n",
      "2020-02-14 19:39:44,630 : INFO : worker thread finished; awaiting finish of 0 more threads\n",
      "2020-02-14 19:39:44,633 : INFO : EPOCH - 16 : training on 71164 raw words (45207 effective words) took 0.1s, 488924 effective words/s\n",
      "2020-02-14 19:39:44,714 : INFO : worker thread finished; awaiting finish of 2 more threads\n",
      "2020-02-14 19:39:44,721 : INFO : worker thread finished; awaiting finish of 1 more threads\n",
      "2020-02-14 19:39:44,730 : INFO : worker thread finished; awaiting finish of 0 more threads\n",
      "2020-02-14 19:39:44,733 : INFO : EPOCH - 17 : training on 71164 raw words (45202 effective words) took 0.1s, 475238 effective words/s\n",
      "2020-02-14 19:39:44,812 : INFO : worker thread finished; awaiting finish of 2 more threads\n",
      "2020-02-14 19:39:44,819 : INFO : worker thread finished; awaiting finish of 1 more threads\n"
     ]
    },
    {
     "name": "stderr",
     "output_type": "stream",
     "text": [
      "2020-02-14 19:39:44,828 : INFO : worker thread finished; awaiting finish of 0 more threads\n",
      "2020-02-14 19:39:44,831 : INFO : EPOCH - 18 : training on 71164 raw words (45043 effective words) took 0.1s, 483963 effective words/s\n",
      "2020-02-14 19:39:44,912 : INFO : worker thread finished; awaiting finish of 2 more threads\n",
      "2020-02-14 19:39:44,919 : INFO : worker thread finished; awaiting finish of 1 more threads\n",
      "2020-02-14 19:39:44,930 : INFO : worker thread finished; awaiting finish of 0 more threads\n",
      "2020-02-14 19:39:44,931 : INFO : EPOCH - 19 : training on 71164 raw words (45110 effective words) took 0.1s, 469696 effective words/s\n",
      "2020-02-14 19:39:45,011 : INFO : worker thread finished; awaiting finish of 2 more threads\n",
      "2020-02-14 19:39:45,018 : INFO : worker thread finished; awaiting finish of 1 more threads\n",
      "2020-02-14 19:39:45,027 : INFO : worker thread finished; awaiting finish of 0 more threads\n",
      "2020-02-14 19:39:45,029 : INFO : EPOCH - 20 : training on 71164 raw words (45221 effective words) took 0.1s, 485196 effective words/s\n",
      "2020-02-14 19:39:45,108 : INFO : worker thread finished; awaiting finish of 2 more threads\n",
      "2020-02-14 19:39:45,114 : INFO : worker thread finished; awaiting finish of 1 more threads\n",
      "2020-02-14 19:39:45,123 : INFO : worker thread finished; awaiting finish of 0 more threads\n",
      "2020-02-14 19:39:45,125 : INFO : EPOCH - 21 : training on 71164 raw words (45164 effective words) took 0.1s, 501501 effective words/s\n",
      "2020-02-14 19:39:45,202 : INFO : worker thread finished; awaiting finish of 2 more threads\n",
      "2020-02-14 19:39:45,210 : INFO : worker thread finished; awaiting finish of 1 more threads\n",
      "2020-02-14 19:39:45,217 : INFO : worker thread finished; awaiting finish of 0 more threads\n",
      "2020-02-14 19:39:45,220 : INFO : EPOCH - 22 : training on 71164 raw words (45057 effective words) took 0.1s, 502867 effective words/s\n",
      "2020-02-14 19:39:45,298 : INFO : worker thread finished; awaiting finish of 2 more threads\n",
      "2020-02-14 19:39:45,304 : INFO : worker thread finished; awaiting finish of 1 more threads\n",
      "2020-02-14 19:39:45,313 : INFO : worker thread finished; awaiting finish of 0 more threads\n",
      "2020-02-14 19:39:45,315 : INFO : EPOCH - 23 : training on 71164 raw words (45250 effective words) took 0.1s, 497180 effective words/s\n",
      "2020-02-14 19:39:45,394 : INFO : worker thread finished; awaiting finish of 2 more threads\n",
      "2020-02-14 19:39:45,400 : INFO : worker thread finished; awaiting finish of 1 more threads\n",
      "2020-02-14 19:39:45,408 : INFO : worker thread finished; awaiting finish of 0 more threads\n",
      "2020-02-14 19:39:45,410 : INFO : EPOCH - 24 : training on 71164 raw words (45030 effective words) took 0.1s, 500493 effective words/s\n",
      "2020-02-14 19:39:45,500 : INFO : worker thread finished; awaiting finish of 2 more threads\n",
      "2020-02-14 19:39:45,509 : INFO : worker thread finished; awaiting finish of 1 more threads\n",
      "2020-02-14 19:39:45,513 : INFO : worker thread finished; awaiting finish of 0 more threads\n",
      "2020-02-14 19:39:45,516 : INFO : EPOCH - 25 : training on 71164 raw words (45091 effective words) took 0.1s, 448403 effective words/s\n",
      "2020-02-14 19:39:45,610 : INFO : worker thread finished; awaiting finish of 2 more threads\n",
      "2020-02-14 19:39:45,621 : INFO : worker thread finished; awaiting finish of 1 more threads\n",
      "2020-02-14 19:39:45,629 : INFO : worker thread finished; awaiting finish of 0 more threads\n",
      "2020-02-14 19:39:45,631 : INFO : EPOCH - 26 : training on 71164 raw words (45115 effective words) took 0.1s, 421586 effective words/s\n",
      "2020-02-14 19:39:45,768 : INFO : worker thread finished; awaiting finish of 2 more threads\n",
      "2020-02-14 19:39:45,771 : INFO : worker thread finished; awaiting finish of 1 more threads\n",
      "2020-02-14 19:39:45,795 : INFO : worker thread finished; awaiting finish of 0 more threads\n",
      "2020-02-14 19:39:45,800 : INFO : EPOCH - 27 : training on 71164 raw words (45149 effective words) took 0.2s, 282922 effective words/s\n",
      "2020-02-14 19:39:45,902 : INFO : worker thread finished; awaiting finish of 2 more threads\n",
      "2020-02-14 19:39:45,909 : INFO : worker thread finished; awaiting finish of 1 more threads\n",
      "2020-02-14 19:39:45,923 : INFO : worker thread finished; awaiting finish of 0 more threads\n",
      "2020-02-14 19:39:45,925 : INFO : EPOCH - 28 : training on 71164 raw words (45242 effective words) took 0.1s, 388595 effective words/s\n",
      "2020-02-14 19:39:46,065 : INFO : worker thread finished; awaiting finish of 2 more threads\n",
      "2020-02-14 19:39:46,074 : INFO : worker thread finished; awaiting finish of 1 more threads\n",
      "2020-02-14 19:39:46,084 : INFO : worker thread finished; awaiting finish of 0 more threads\n",
      "2020-02-14 19:39:46,086 : INFO : EPOCH - 29 : training on 71164 raw words (45229 effective words) took 0.2s, 292071 effective words/s\n",
      "2020-02-14 19:39:46,164 : INFO : worker thread finished; awaiting finish of 2 more threads\n",
      "2020-02-14 19:39:46,173 : INFO : worker thread finished; awaiting finish of 1 more threads\n",
      "2020-02-14 19:39:46,181 : INFO : worker thread finished; awaiting finish of 0 more threads\n",
      "2020-02-14 19:39:46,183 : INFO : EPOCH - 30 : training on 71164 raw words (45055 effective words) took 0.1s, 488477 effective words/s\n",
      "2020-02-14 19:39:46,266 : INFO : worker thread finished; awaiting finish of 2 more threads\n",
      "2020-02-14 19:39:46,273 : INFO : worker thread finished; awaiting finish of 1 more threads\n",
      "2020-02-14 19:39:46,281 : INFO : worker thread finished; awaiting finish of 0 more threads\n",
      "2020-02-14 19:39:46,282 : INFO : EPOCH - 31 : training on 71164 raw words (45194 effective words) took 0.1s, 482686 effective words/s\n",
      "2020-02-14 19:39:46,360 : INFO : worker thread finished; awaiting finish of 2 more threads\n",
      "2020-02-14 19:39:46,367 : INFO : worker thread finished; awaiting finish of 1 more threads\n",
      "2020-02-14 19:39:46,375 : INFO : worker thread finished; awaiting finish of 0 more threads\n",
      "2020-02-14 19:39:46,377 : INFO : EPOCH - 32 : training on 71164 raw words (45148 effective words) took 0.1s, 511337 effective words/s\n",
      "2020-02-14 19:39:46,456 : INFO : worker thread finished; awaiting finish of 2 more threads\n",
      "2020-02-14 19:39:46,464 : INFO : worker thread finished; awaiting finish of 1 more threads\n",
      "2020-02-14 19:39:46,471 : INFO : worker thread finished; awaiting finish of 0 more threads\n",
      "2020-02-14 19:39:46,473 : INFO : EPOCH - 33 : training on 71164 raw words (45116 effective words) took 0.1s, 494502 effective words/s\n",
      "2020-02-14 19:39:46,551 : INFO : worker thread finished; awaiting finish of 2 more threads\n",
      "2020-02-14 19:39:46,556 : INFO : worker thread finished; awaiting finish of 1 more threads\n",
      "2020-02-14 19:39:46,566 : INFO : worker thread finished; awaiting finish of 0 more threads\n",
      "2020-02-14 19:39:46,567 : INFO : EPOCH - 34 : training on 71164 raw words (45222 effective words) took 0.1s, 501872 effective words/s\n",
      "2020-02-14 19:39:46,645 : INFO : worker thread finished; awaiting finish of 2 more threads\n",
      "2020-02-14 19:39:46,651 : INFO : worker thread finished; awaiting finish of 1 more threads\n",
      "2020-02-14 19:39:46,660 : INFO : worker thread finished; awaiting finish of 0 more threads\n",
      "2020-02-14 19:39:46,662 : INFO : EPOCH - 35 : training on 71164 raw words (45105 effective words) took 0.1s, 509724 effective words/s\n",
      "2020-02-14 19:39:46,744 : INFO : worker thread finished; awaiting finish of 2 more threads\n",
      "2020-02-14 19:39:46,747 : INFO : worker thread finished; awaiting finish of 1 more threads\n",
      "2020-02-14 19:39:46,755 : INFO : worker thread finished; awaiting finish of 0 more threads\n",
      "2020-02-14 19:39:46,757 : INFO : EPOCH - 36 : training on 71164 raw words (45237 effective words) took 0.1s, 496076 effective words/s\n",
      "2020-02-14 19:39:46,836 : INFO : worker thread finished; awaiting finish of 2 more threads\n",
      "2020-02-14 19:39:46,842 : INFO : worker thread finished; awaiting finish of 1 more threads\n",
      "2020-02-14 19:39:46,850 : INFO : worker thread finished; awaiting finish of 0 more threads\n",
      "2020-02-14 19:39:46,852 : INFO : EPOCH - 37 : training on 71164 raw words (45270 effective words) took 0.1s, 511924 effective words/s\n",
      "2020-02-14 19:39:46,930 : INFO : worker thread finished; awaiting finish of 2 more threads\n",
      "2020-02-14 19:39:46,936 : INFO : worker thread finished; awaiting finish of 1 more threads\n",
      "2020-02-14 19:39:46,944 : INFO : worker thread finished; awaiting finish of 0 more threads\n"
     ]
    },
    {
     "name": "stderr",
     "output_type": "stream",
     "text": [
      "2020-02-14 19:39:46,946 : INFO : EPOCH - 38 : training on 71164 raw words (45280 effective words) took 0.1s, 508235 effective words/s\n",
      "2020-02-14 19:39:47,025 : INFO : worker thread finished; awaiting finish of 2 more threads\n",
      "2020-02-14 19:39:47,031 : INFO : worker thread finished; awaiting finish of 1 more threads\n",
      "2020-02-14 19:39:47,040 : INFO : worker thread finished; awaiting finish of 0 more threads\n",
      "2020-02-14 19:39:47,041 : INFO : EPOCH - 39 : training on 71164 raw words (45194 effective words) took 0.1s, 500849 effective words/s\n",
      "2020-02-14 19:39:47,119 : INFO : worker thread finished; awaiting finish of 2 more threads\n",
      "2020-02-14 19:39:47,126 : INFO : worker thread finished; awaiting finish of 1 more threads\n",
      "2020-02-14 19:39:47,136 : INFO : worker thread finished; awaiting finish of 0 more threads\n",
      "2020-02-14 19:39:47,138 : INFO : EPOCH - 40 : training on 71164 raw words (45197 effective words) took 0.1s, 486475 effective words/s\n",
      "2020-02-14 19:39:47,217 : INFO : worker thread finished; awaiting finish of 2 more threads\n",
      "2020-02-14 19:39:47,222 : INFO : worker thread finished; awaiting finish of 1 more threads\n",
      "2020-02-14 19:39:47,232 : INFO : worker thread finished; awaiting finish of 0 more threads\n",
      "2020-02-14 19:39:47,233 : INFO : EPOCH - 41 : training on 71164 raw words (45115 effective words) took 0.1s, 497742 effective words/s\n",
      "2020-02-14 19:39:47,311 : INFO : worker thread finished; awaiting finish of 2 more threads\n",
      "2020-02-14 19:39:47,319 : INFO : worker thread finished; awaiting finish of 1 more threads\n",
      "2020-02-14 19:39:47,326 : INFO : worker thread finished; awaiting finish of 0 more threads\n",
      "2020-02-14 19:39:47,328 : INFO : EPOCH - 42 : training on 71164 raw words (45216 effective words) took 0.1s, 505159 effective words/s\n",
      "2020-02-14 19:39:47,407 : INFO : worker thread finished; awaiting finish of 2 more threads\n",
      "2020-02-14 19:39:47,413 : INFO : worker thread finished; awaiting finish of 1 more threads\n",
      "2020-02-14 19:39:47,422 : INFO : worker thread finished; awaiting finish of 0 more threads\n",
      "2020-02-14 19:39:47,424 : INFO : EPOCH - 43 : training on 71164 raw words (45106 effective words) took 0.1s, 499046 effective words/s\n",
      "2020-02-14 19:39:47,500 : INFO : worker thread finished; awaiting finish of 2 more threads\n",
      "2020-02-14 19:39:47,507 : INFO : worker thread finished; awaiting finish of 1 more threads\n",
      "2020-02-14 19:39:47,515 : INFO : worker thread finished; awaiting finish of 0 more threads\n",
      "2020-02-14 19:39:47,517 : INFO : EPOCH - 44 : training on 71164 raw words (45098 effective words) took 0.1s, 508227 effective words/s\n",
      "2020-02-14 19:39:47,595 : INFO : worker thread finished; awaiting finish of 2 more threads\n",
      "2020-02-14 19:39:47,601 : INFO : worker thread finished; awaiting finish of 1 more threads\n",
      "2020-02-14 19:39:47,610 : INFO : worker thread finished; awaiting finish of 0 more threads\n",
      "2020-02-14 19:39:47,612 : INFO : EPOCH - 45 : training on 71164 raw words (45243 effective words) took 0.1s, 506759 effective words/s\n",
      "2020-02-14 19:39:47,689 : INFO : worker thread finished; awaiting finish of 2 more threads\n",
      "2020-02-14 19:39:47,700 : INFO : worker thread finished; awaiting finish of 1 more threads\n",
      "2020-02-14 19:39:47,706 : INFO : worker thread finished; awaiting finish of 0 more threads\n",
      "2020-02-14 19:39:47,708 : INFO : EPOCH - 46 : training on 71164 raw words (45109 effective words) took 0.1s, 495792 effective words/s\n",
      "2020-02-14 19:39:47,804 : INFO : worker thread finished; awaiting finish of 2 more threads\n",
      "2020-02-14 19:39:47,812 : INFO : worker thread finished; awaiting finish of 1 more threads\n",
      "2020-02-14 19:39:47,819 : INFO : worker thread finished; awaiting finish of 0 more threads\n",
      "2020-02-14 19:39:47,821 : INFO : EPOCH - 47 : training on 71164 raw words (45099 effective words) took 0.1s, 413439 effective words/s\n",
      "2020-02-14 19:39:47,925 : INFO : worker thread finished; awaiting finish of 2 more threads\n",
      "2020-02-14 19:39:47,942 : INFO : worker thread finished; awaiting finish of 1 more threads\n",
      "2020-02-14 19:39:47,945 : INFO : worker thread finished; awaiting finish of 0 more threads\n",
      "2020-02-14 19:39:47,947 : INFO : EPOCH - 48 : training on 71164 raw words (45203 effective words) took 0.1s, 386276 effective words/s\n",
      "2020-02-14 19:39:48,031 : INFO : worker thread finished; awaiting finish of 2 more threads\n",
      "2020-02-14 19:39:48,036 : INFO : worker thread finished; awaiting finish of 1 more threads\n",
      "2020-02-14 19:39:48,046 : INFO : worker thread finished; awaiting finish of 0 more threads\n",
      "2020-02-14 19:39:48,048 : INFO : EPOCH - 49 : training on 71164 raw words (45173 effective words) took 0.1s, 488434 effective words/s\n",
      "2020-02-14 19:39:48,165 : INFO : worker thread finished; awaiting finish of 2 more threads\n",
      "2020-02-14 19:39:48,180 : INFO : worker thread finished; awaiting finish of 1 more threads\n",
      "2020-02-14 19:39:48,190 : INFO : worker thread finished; awaiting finish of 0 more threads\n",
      "2020-02-14 19:39:48,193 : INFO : EPOCH - 50 : training on 71164 raw words (45186 effective words) took 0.1s, 324995 effective words/s\n",
      "2020-02-14 19:39:48,194 : INFO : training on a 3558200 raw words (2258059 effective words) took 5.3s, 426801 effective words/s\n"
     ]
    }
   ],
   "source": [
    "import logging\n",
    "import gensim\n",
    "from gensim.models import word2vec\n",
    "\n",
    "logging.basicConfig(format='%(asctime)s : %(levelname)s : %(message)s', level=logging.INFO)  # сразу логгинг\n",
    "data = gensim.models.word2vec.LineSentence(sentences_file_name)\n",
    "model = gensim.models.Word2Vec(\n",
    "    data,\n",
    "    size=300,\n",
    "    window=5,\n",
    "    min_count=5,\n",
    "    iter=50\n",
    ")"
   ]
  },
  {
   "cell_type": "markdown",
   "metadata": {},
   "source": [
    "Вопрос: сколько получилось слов в этой модели?"
   ]
  },
  {
   "cell_type": "code",
   "execution_count": 38,
   "metadata": {},
   "outputs": [
    {
     "name": "stdout",
     "output_type": "stream",
     "text": [
      "2259\n"
     ]
    }
   ],
   "source": [
    "print(len(model.wv.vocab))"
   ]
  },
  {
   "cell_type": "markdown",
   "metadata": {},
   "source": [
    "#### 4. Использовать следующие функции:\n",
    "- [X] найти ближайшие 5 слов для а) животного б) абстрактного понятия в) имени главного героя г) прилагательных \"хороший\" и \"плохой\"\n",
    "- [X] найти семантическую пропорцию\n",
    "- [X] найти лишнее в списке слов\n",
    "\n",
    "Для этого можно использовать функцию most_similar()."
   ]
  },
  {
   "cell_type": "code",
   "execution_count": 47,
   "metadata": {},
   "outputs": [
    {
     "data": {
      "text/plain": [
       "[('трудно', 0.8237883448600769),\n",
       " ('мешать', 0.8083735108375549),\n",
       " ('жаль', 0.8076009154319763),\n",
       " ('плохо', 0.8027758598327637),\n",
       " ('точно', 0.7961563467979431)]"
      ]
     },
     "execution_count": 47,
     "metadata": {},
     "output_type": "execute_result"
    }
   ],
   "source": [
    "model.wv.most_similar('кит', topn=5)"
   ]
  },
  {
   "cell_type": "code",
   "execution_count": 49,
   "metadata": {},
   "outputs": [
    {
     "data": {
      "text/plain": [
       "[('война', 0.8328709602355957),\n",
       " ('положение', 0.8285034894943237),\n",
       " ('трудный', 0.8144578337669373),\n",
       " ('немец', 0.8124399185180664),\n",
       " ('большевик', 0.8020069599151611)]"
      ]
     },
     "execution_count": 49,
     "metadata": {},
     "output_type": "execute_result"
    }
   ],
   "source": [
    "model.wv.most_similar('революция', topn=5)"
   ]
  },
  {
   "cell_type": "code",
   "execution_count": 50,
   "metadata": {},
   "outputs": [
    {
     "data": {
      "text/plain": [
       "[('турбин', 0.6811341047286987),\n",
       " ('анюта', 0.6066335439682007),\n",
       " ('елена', 0.5858662128448486),\n",
       " ('он', 0.5832560062408447),\n",
       " ('она', 0.5748130083084106)]"
      ]
     },
     "execution_count": 50,
     "metadata": {},
     "output_type": "execute_result"
    }
   ],
   "source": [
    "model.wv.most_similar('николка', topn=5)"
   ]
  },
  {
   "cell_type": "code",
   "execution_count": 51,
   "metadata": {},
   "outputs": [
    {
     "data": {
      "text/plain": [
       "[('положение', 0.793994128704071),\n",
       " ('пожалуй', 0.7548615336418152),\n",
       " ('уж', 0.7497487664222717),\n",
       " ('трудный', 0.7481001615524292),\n",
       " ('право', 0.7423897981643677)]"
      ]
     },
     "execution_count": 51,
     "metadata": {},
     "output_type": "execute_result"
    }
   ],
   "source": [
    "model.wv.most_similar('хороший', topn=5)"
   ]
  },
  {
   "cell_type": "code",
   "execution_count": 52,
   "metadata": {},
   "outputs": [
    {
     "data": {
      "text/plain": [
       "[('болезнь', 0.7955225110054016),\n",
       " ('встречать', 0.7889875769615173),\n",
       " ('петербургский', 0.7772526144981384),\n",
       " ('гражданин', 0.7705717086791992),\n",
       " ('ровный', 0.7629084587097168)]"
      ]
     },
     "execution_count": 52,
     "metadata": {},
     "output_type": "execute_result"
    }
   ],
   "source": [
    "model.wv.most_similar('плохой', topn=5)"
   ]
  },
  {
   "cell_type": "code",
   "execution_count": 61,
   "metadata": {},
   "outputs": [
    {
     "data": {
      "text/plain": [
       "[('менее', 0.7551277875900269)]"
      ]
     },
     "execution_count": 61,
     "metadata": {},
     "output_type": "execute_result"
    }
   ],
   "source": [
    "model.wv.most_similar(positive=[\"россия\", \"украина\"], negative=[\"петлюровец\"], topn=1)"
   ]
  },
  {
   "cell_type": "code",
   "execution_count": 65,
   "metadata": {},
   "outputs": [
    {
     "data": {
      "text/plain": [
       "'лошадь'"
      ]
     },
     "execution_count": 65,
     "metadata": {},
     "output_type": "execute_result"
    }
   ],
   "source": [
    "model.wv.doesnt_match(\"кит кот студзинский лошадь\".split(' '))"
   ]
  },
  {
   "cell_type": "markdown",
   "metadata": {},
   "source": [
    "#### 4. Попробуйте сделать визуализацию с помощью PCA (один из двух на выбор)\n",
    "- [ ] попробуйте на именах героев (4+ имен, можно брать имя и фамилию героя отдельно, это даже интересно): это отражает их отношения / их характеры?\n",
    "- [ ] попробуйте на каких-то названиях предметов или животных: насколько это похоже на правду?"
   ]
  },
  {
   "cell_type": "code",
   "execution_count": 68,
   "metadata": {},
   "outputs": [
    {
     "name": "stderr",
     "output_type": "stream",
     "text": [
      "C:\\ProgramData\\Anaconda3\\lib\\site-packages\\ipykernel_launcher.py:5: DeprecationWarning: Call to deprecated `__getitem__` (Method will be removed in 4.0.0, use self.wv.__getitem__() instead).\n",
      "  \"\"\"\n"
     ]
    },
    {
     "data": {
      "image/png": "[encoded data removed]",
      "text/plain": [
       "<Figure size 432x288 with 1 Axes>"
      ]
     },
     "metadata": {
      "needs_background": "light"
     },
     "output_type": "display_data"
    }
   ],
   "source": [
    "from sklearn.decomposition import PCA\n",
    "import matplotlib.pyplot as plt\n",
    "%matplotlib inline\n",
    "words = ['николка', 'виктор', 'елена', 'турбина', 'мышлаевский']\n",
    "X = model[words]\n",
    "\n",
    "pca = PCA(n_components=2)\n",
    "coords = pca.fit_transform(X)\n",
    "plt.scatter(coords[:, 0], coords[:, 1], color='red')\n",
    "plt.title('Words')\n",
    "\n",
    "for i, word in enumerate(words):\n",
    "    plt.annotate(word, xy=(coords[i, 0], coords[i, 1]))\n",
    "plt.show()"
   ]
  },
  {
   "cell_type": "markdown",
   "metadata": {},
   "source": [
    "Странно, но все как-то в разных углах, даже \"елена\" и \"турбина\"."
   ]
  },
  {
   "cell_type": "code",
   "execution_count": 70,
   "metadata": {},
   "outputs": [
    {
     "name": "stderr",
     "output_type": "stream",
     "text": [
      "C:\\ProgramData\\Anaconda3\\lib\\site-packages\\ipykernel_launcher.py:2: DeprecationWarning: Call to deprecated `__getitem__` (Method will be removed in 4.0.0, use self.wv.__getitem__() instead).\n",
      "  \n"
     ]
    },
    {
     "data": {
      "image/png": "[encoded data removed]",
      "text/plain": [
       "<Figure size 432x288 with 1 Axes>"
      ]
     },
     "metadata": {
      "needs_background": "light"
     },
     "output_type": "display_data"
    }
   ],
   "source": [
    "words = ['кит', 'кот', 'лошадь', 'собака']\n",
    "X = model[words]\n",
    "\n",
    "pca = PCA(n_components=2)\n",
    "coords = pca.fit_transform(X)\n",
    "plt.scatter(coords[:, 0], coords[:, 1], color='red')\n",
    "plt.title('Words')\n",
    "\n",
    "for i, word in enumerate(words):\n",
    "    plt.annotate(word, xy=(coords[i, 0], coords[i, 1]))\n",
    "plt.show()"
   ]
  },
  {
   "cell_type": "markdown",
   "metadata": {},
   "source": [
    "#### 5. Возьмите предложение и замените все слова (которые не являются служебными) на ближайшие по векторам\n"
   ]
  },
  {
   "cell_type": "code",
   "execution_count": 89,
   "metadata": {},
   "outputs": [
    {
     "name": "stdout",
     "output_type": "stream",
     "text": [
      "хотеть\n",
      "вдохновенно\n",
      "ужас\n",
      "равно\n",
      "миф\n"
     ]
    }
   ],
   "source": [
    "sentence = 'надо всё-таки вертеть голова это же не стих'\n",
    "from nltk.corpus import stopwords\n",
    "words_no_stopwords = []\n",
    "words = word_tokenize(sentence)\n",
    "for word in words:\n",
    "    if word not in stopwords.words('russian'):\n",
    "        words_no_stopwords.append(word)\n",
    "\n",
    "def most_similar(word):\n",
    "    return model.wv.most_similar(word, topn=1)\n",
    "\n",
    "for word in words_no_stopwords:\n",
    "    print(model.wv.most_similar(word, topn=1)[0][0])"
   ]
  }
 ],
 "metadata": {
  "kernelspec": {
   "display_name": "Python 3",
   "language": "python",
   "name": "python3"
  },
  "language_info": {
   "codemirror_mode": {
    "name": "ipython",
    "version": 3
   },
   "file_extension": ".py",
   "mimetype": "text/x-python",
   "name": "python",
   "nbconvert_exporter": "python",
   "pygments_lexer": "ipython3",
   "version": "3.7.4"
  }
 },
 "nbformat": 4,
 "nbformat_minor": 4
}
