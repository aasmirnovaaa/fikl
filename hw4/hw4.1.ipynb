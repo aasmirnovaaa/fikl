{
 "cells": [
  {
   "cell_type": "markdown",
   "metadata": {},
   "source": [
    "### ДЗ 4.1\n",
    "#### 1. Придумать схему базы данных и описать ее\n",
    "##### 1.1. Какие сущности и связи между ними у вас есть?\n",
    "##### 1.2. Какие атрибуты есть у сущностей? какие типы данных у них?\n",
    "![here](db_scheme.png)\n",
    "Комментарий:\n",
    "* respondents - сущность Информанты с аттрибутами имя, пол, возраст, местонахождение\n",
    "* propositions - сущность Предложения с аттрибутами текст предложения\n",
    "* answers - сущность Ответы, которые были даны, с аттрибутами ID информанта, ID предложения, оценка и скорость ответа"
   ]
  },
  {
   "cell_type": "markdown",
   "metadata": {},
   "source": [
    "##### 1.3. Проверьте себя, нет ли необоснованно дублирующейся информации? (Например, имя информанта и возраст копируется в каждом ответе)\n",
    "Нет, у нас всё круто."
   ]
  },
  {
   "cell_type": "markdown",
   "metadata": {},
   "source": [
    "##### 1.4. Задайте базу в DB Browser\n",
    "Создаём пустую БД:"
   ]
  },
  {
   "cell_type": "code",
   "execution_count": 1,
   "metadata": {},
   "outputs": [],
   "source": [
    "import sqlite3\n",
    "\n",
    "db_name = \"hw4.1.db\"\n",
    "conn = sqlite3.connect(db_name)"
   ]
  },
  {
   "cell_type": "markdown",
   "metadata": {},
   "source": [
    "Создадим таблицы:"
   ]
  },
  {
   "cell_type": "code",
   "execution_count": 7,
   "metadata": {},
   "outputs": [
    {
     "data": {
      "text/plain": [
       "<sqlite3.Cursor at 0x1fd01cc7880>"
      ]
     },
     "execution_count": 7,
     "metadata": {},
     "output_type": "execute_result"
    }
   ],
   "source": [
    "cur = conn.cursor()\n",
    "create_schema_file_name = 'hw4.1.db.sql'\n",
    "with open(create_schema_file_name, encoding='utf-8') as f:\n",
    "    query = f.read()\n",
    "cur.executescript(query)"
   ]
  },
  {
   "cell_type": "markdown",
   "metadata": {},
   "source": [
    "#### 2. Сгенерируйте данные и заполните базу через питон\n",
    "propositions:"
   ]
  },
  {
   "cell_type": "code",
   "execution_count": 8,
   "metadata": {},
   "outputs": [],
   "source": [
    "propositions = {\n",
    "    \"id\": range(0,6),\n",
    "    \"text\": [\n",
    "        \"В первом приближении выходная кривая эволюционирует в смешанный цикл\",\n",
    "        \"Ворона сходна зелёному столу\",\n",
    "        \"Не ешь варенье, ешь печенье!\",\n",
    "        \"Самонаблюдение расщепляет филогенез, это обозначено Ли Россом как фундаментальная ошибка атрибуции\",\n",
    "        \"Откуси кусочек сочного базальта!\",\n",
    "        \"После того как тема сформулирована, прецессия гироскопа связывает астероид, учитывая современные тенденции.\"\n",
    "    ]\n",
    "}"
   ]
  },
  {
   "cell_type": "code",
   "execution_count": 9,
   "metadata": {},
   "outputs": [],
   "source": [
    "import pandas as pd\n",
    "\n",
    "propositions_df = (pd.DataFrame(propositions)).set_index('id')"
   ]
  },
  {
   "cell_type": "code",
   "execution_count": 10,
   "metadata": {},
   "outputs": [],
   "source": [
    "propositions_df.to_sql(\n",
    "    name=\"propositions\",\n",
    "    con=conn,\n",
    "    if_exists='append'\n",
    ")"
   ]
  },
  {
   "cell_type": "markdown",
   "metadata": {},
   "source": [
    "respondents:"
   ]
  },
  {
   "cell_type": "code",
   "execution_count": 43,
   "metadata": {},
   "outputs": [],
   "source": [
    "import requests\n",
    "from datetime import datetime\n",
    "import random\n",
    "\n",
    "respondents = {\n",
    "    \"id\": [],\n",
    "    \"name\": [],\n",
    "    \"age\": [],\n",
    "    \"sex\": [],\n",
    "    \"location\": []\n",
    "}\n",
    "\n",
    "for id in range(100):\n",
    "    uri = \"https://randus.org/api.php\"\n",
    "    r = requests.get(url=uri)\n",
    "    data = r.json()\n",
    "    name = ' '.join([\n",
    "        data['name']['lname']['normal'],\n",
    "        data['name']['fname']['normal'],\n",
    "        data['name']['patronymic']['normal']\n",
    "    ])\n",
    "    age = random.randint(15, 80)\n",
    "    sex = data['gender']['gender']\n",
    "    location = data['address']['city']\n",
    "    respondents['id'].append(id)\n",
    "    respondents['name'].append(name)\n",
    "    respondents['age'].append(age)\n",
    "    respondents['sex'].append(sex)\n",
    "    respondents['location'].append(location)"
   ]
  },
  {
   "cell_type": "code",
   "execution_count": 46,
   "metadata": {},
   "outputs": [
    {
     "data": {
      "text/html": [
       "<div>\n",
       "<style scoped>\n",
       "    .dataframe tbody tr th:only-of-type {\n",
       "        vertical-align: middle;\n",
       "    }\n",
       "\n",
       "    .dataframe tbody tr th {\n",
       "        vertical-align: top;\n",
       "    }\n",
       "\n",
       "    .dataframe thead th {\n",
       "        text-align: right;\n",
       "    }\n",
       "</style>\n",
       "<table border=\"1\" class=\"dataframe\">\n",
       "  <thead>\n",
       "    <tr style=\"text-align: right;\">\n",
       "      <th></th>\n",
       "      <th>name</th>\n",
       "      <th>age</th>\n",
       "      <th>sex</th>\n",
       "      <th>location</th>\n",
       "    </tr>\n",
       "    <tr>\n",
       "      <th>id</th>\n",
       "      <th></th>\n",
       "      <th></th>\n",
       "      <th></th>\n",
       "      <th></th>\n",
       "    </tr>\n",
       "  </thead>\n",
       "  <tbody>\n",
       "    <tr>\n",
       "      <th>0</th>\n",
       "      <td>Покровский Зайловиддин Эльдарович</td>\n",
       "      <td>50</td>\n",
       "      <td>m</td>\n",
       "      <td>Новогурьевское</td>\n",
       "    </tr>\n",
       "    <tr>\n",
       "      <th>1</th>\n",
       "      <td>Малиновский Укатар Валерьевич</td>\n",
       "      <td>35</td>\n",
       "      <td>m</td>\n",
       "      <td>Трубачевск</td>\n",
       "    </tr>\n",
       "    <tr>\n",
       "      <th>2</th>\n",
       "      <td>Кочеткова Триин Матвеевна</td>\n",
       "      <td>18</td>\n",
       "      <td>w</td>\n",
       "      <td>Новоржев</td>\n",
       "    </tr>\n",
       "    <tr>\n",
       "      <th>3</th>\n",
       "      <td>Якубович Абела Владиславовна</td>\n",
       "      <td>54</td>\n",
       "      <td>w</td>\n",
       "      <td>Большаково</td>\n",
       "    </tr>\n",
       "    <tr>\n",
       "      <th>4</th>\n",
       "      <td>Андрианова Джульетта Богдановна</td>\n",
       "      <td>78</td>\n",
       "      <td>w</td>\n",
       "      <td>Чернушка</td>\n",
       "    </tr>\n",
       "    <tr>\n",
       "      <th>...</th>\n",
       "      <td>...</td>\n",
       "      <td>...</td>\n",
       "      <td>...</td>\n",
       "      <td>...</td>\n",
       "    </tr>\n",
       "    <tr>\n",
       "      <th>95</th>\n",
       "      <td>Доржинов Шерджан Федорович</td>\n",
       "      <td>41</td>\n",
       "      <td>m</td>\n",
       "      <td>Тигиль</td>\n",
       "    </tr>\n",
       "    <tr>\n",
       "      <th>96</th>\n",
       "      <td>Потапова Анися Ильинична</td>\n",
       "      <td>45</td>\n",
       "      <td>w</td>\n",
       "      <td>Юргинское</td>\n",
       "    </tr>\n",
       "    <tr>\n",
       "      <th>97</th>\n",
       "      <td>Братиславский Лунн Русланович</td>\n",
       "      <td>33</td>\n",
       "      <td>m</td>\n",
       "      <td>Шацк</td>\n",
       "    </tr>\n",
       "    <tr>\n",
       "      <th>98</th>\n",
       "      <td>Кротова Иделлия Станиславовна</td>\n",
       "      <td>17</td>\n",
       "      <td>w</td>\n",
       "      <td>Тиличики</td>\n",
       "    </tr>\n",
       "    <tr>\n",
       "      <th>99</th>\n",
       "      <td>Чистякова Ирландия Тарасовна</td>\n",
       "      <td>48</td>\n",
       "      <td>w</td>\n",
       "      <td>Горьковское</td>\n",
       "    </tr>\n",
       "  </tbody>\n",
       "</table>\n",
       "<p>100 rows × 4 columns</p>\n",
       "</div>"
      ],
      "text/plain": [
       "                                 name  age sex        location\n",
       "id                                                            \n",
       "0   Покровский Зайловиддин Эльдарович   50   m  Новогурьевское\n",
       "1       Малиновский Укатар Валерьевич   35   m      Трубачевск\n",
       "2           Кочеткова Триин Матвеевна   18   w        Новоржев\n",
       "3        Якубович Абела Владиславовна   54   w      Большаково\n",
       "4     Андрианова Джульетта Богдановна   78   w        Чернушка\n",
       "..                                ...  ...  ..             ...\n",
       "95         Доржинов Шерджан Федорович   41   m          Тигиль\n",
       "96           Потапова Анися Ильинична   45   w       Юргинское\n",
       "97      Братиславский Лунн Русланович   33   m            Шацк\n",
       "98      Кротова Иделлия Станиславовна   17   w        Тиличики\n",
       "99       Чистякова Ирландия Тарасовна   48   w     Горьковское\n",
       "\n",
       "[100 rows x 4 columns]"
      ]
     },
     "execution_count": 46,
     "metadata": {},
     "output_type": "execute_result"
    }
   ],
   "source": [
    "respondents_df = (pd.DataFrame(respondents)).set_index('id')\n",
    "respondents_df"
   ]
  },
  {
   "cell_type": "code",
   "execution_count": 53,
   "metadata": {},
   "outputs": [],
   "source": [
    "respondents_df.to_sql(\n",
    "    name=\"respondents\",\n",
    "    con=conn,\n",
    "    if_exists='append'\n",
    ")"
   ]
  },
  {
   "cell_type": "markdown",
   "metadata": {},
   "source": [
    "answers:"
   ]
  },
  {
   "cell_type": "code",
   "execution_count": 51,
   "metadata": {},
   "outputs": [],
   "source": [
    "answers = {\n",
    "    \"id\": [],\n",
    "    \"respondent_id\": [],\n",
    "    \"proposition_id\": [],\n",
    "    \"rating\": [],\n",
    "    \"time\": [],\n",
    "}\n",
    "\n",
    "for id in range(100):\n",
    "    for id2 in range(len(propositions['id'])):\n",
    "        answers['respondent_id'].append(id)\n",
    "        answers['proposition_id'].append(id2)\n",
    "        answers['rating'].append(random.randint(1, 5))  \n",
    "        answers['time'].append(random.randint(1, 5))\n",
    "\n",
    "answers['id'] = range(0,100*len(propositions['id']))"
   ]
  },
  {
   "cell_type": "code",
   "execution_count": 52,
   "metadata": {},
   "outputs": [
    {
     "data": {
      "text/html": [
       "<div>\n",
       "<style scoped>\n",
       "    .dataframe tbody tr th:only-of-type {\n",
       "        vertical-align: middle;\n",
       "    }\n",
       "\n",
       "    .dataframe tbody tr th {\n",
       "        vertical-align: top;\n",
       "    }\n",
       "\n",
       "    .dataframe thead th {\n",
       "        text-align: right;\n",
       "    }\n",
       "</style>\n",
       "<table border=\"1\" class=\"dataframe\">\n",
       "  <thead>\n",
       "    <tr style=\"text-align: right;\">\n",
       "      <th></th>\n",
       "      <th>respondent_id</th>\n",
       "      <th>proposition_id</th>\n",
       "      <th>rating</th>\n",
       "      <th>time</th>\n",
       "    </tr>\n",
       "    <tr>\n",
       "      <th>id</th>\n",
       "      <th></th>\n",
       "      <th></th>\n",
       "      <th></th>\n",
       "      <th></th>\n",
       "    </tr>\n",
       "  </thead>\n",
       "  <tbody>\n",
       "    <tr>\n",
       "      <th>0</th>\n",
       "      <td>0</td>\n",
       "      <td>0</td>\n",
       "      <td>1</td>\n",
       "      <td>2</td>\n",
       "    </tr>\n",
       "    <tr>\n",
       "      <th>1</th>\n",
       "      <td>0</td>\n",
       "      <td>1</td>\n",
       "      <td>3</td>\n",
       "      <td>4</td>\n",
       "    </tr>\n",
       "    <tr>\n",
       "      <th>2</th>\n",
       "      <td>0</td>\n",
       "      <td>2</td>\n",
       "      <td>4</td>\n",
       "      <td>2</td>\n",
       "    </tr>\n",
       "    <tr>\n",
       "      <th>3</th>\n",
       "      <td>0</td>\n",
       "      <td>3</td>\n",
       "      <td>5</td>\n",
       "      <td>4</td>\n",
       "    </tr>\n",
       "    <tr>\n",
       "      <th>4</th>\n",
       "      <td>0</td>\n",
       "      <td>4</td>\n",
       "      <td>1</td>\n",
       "      <td>5</td>\n",
       "    </tr>\n",
       "    <tr>\n",
       "      <th>...</th>\n",
       "      <td>...</td>\n",
       "      <td>...</td>\n",
       "      <td>...</td>\n",
       "      <td>...</td>\n",
       "    </tr>\n",
       "    <tr>\n",
       "      <th>595</th>\n",
       "      <td>99</td>\n",
       "      <td>1</td>\n",
       "      <td>1</td>\n",
       "      <td>3</td>\n",
       "    </tr>\n",
       "    <tr>\n",
       "      <th>596</th>\n",
       "      <td>99</td>\n",
       "      <td>2</td>\n",
       "      <td>4</td>\n",
       "      <td>4</td>\n",
       "    </tr>\n",
       "    <tr>\n",
       "      <th>597</th>\n",
       "      <td>99</td>\n",
       "      <td>3</td>\n",
       "      <td>5</td>\n",
       "      <td>2</td>\n",
       "    </tr>\n",
       "    <tr>\n",
       "      <th>598</th>\n",
       "      <td>99</td>\n",
       "      <td>4</td>\n",
       "      <td>2</td>\n",
       "      <td>2</td>\n",
       "    </tr>\n",
       "    <tr>\n",
       "      <th>599</th>\n",
       "      <td>99</td>\n",
       "      <td>5</td>\n",
       "      <td>5</td>\n",
       "      <td>1</td>\n",
       "    </tr>\n",
       "  </tbody>\n",
       "</table>\n",
       "<p>600 rows × 4 columns</p>\n",
       "</div>"
      ],
      "text/plain": [
       "     respondent_id  proposition_id  rating  time\n",
       "id                                              \n",
       "0                0               0       1     2\n",
       "1                0               1       3     4\n",
       "2                0               2       4     2\n",
       "3                0               3       5     4\n",
       "4                0               4       1     5\n",
       "..             ...             ...     ...   ...\n",
       "595             99               1       1     3\n",
       "596             99               2       4     4\n",
       "597             99               3       5     2\n",
       "598             99               4       2     2\n",
       "599             99               5       5     1\n",
       "\n",
       "[600 rows x 4 columns]"
      ]
     },
     "execution_count": 52,
     "metadata": {},
     "output_type": "execute_result"
    }
   ],
   "source": [
    "answers_df = (pd.DataFrame(answers)).set_index('id')\n",
    "answers_df"
   ]
  },
  {
   "cell_type": "code",
   "execution_count": 54,
   "metadata": {},
   "outputs": [],
   "source": [
    "answers_df.to_sql(\n",
    "    name=\"answers\",\n",
    "    con=conn,\n",
    "    if_exists='append'\n",
    ")"
   ]
  },
  {
   "cell_type": "code",
   "execution_count": 55,
   "metadata": {},
   "outputs": [],
   "source": [
    "conn.commit()"
   ]
  },
  {
   "cell_type": "markdown",
   "metadata": {},
   "source": [
    "#### 3. Составьте запросы к базе\n",
    "##### 3.1. Составьте запрос SELECT с условием к одной таблице\n",
    "Сколько людей старше 40 отвечали?"
   ]
  },
  {
   "cell_type": "code",
   "execution_count": 60,
   "metadata": {},
   "outputs": [
    {
     "name": "stdout",
     "output_type": "stream",
     "text": [
      "[(62,)]\n"
     ]
    }
   ],
   "source": [
    "query = \"SELECT count() FROM respondents WHERE age > 40\"\n",
    "cur.execute(query)\n",
    "print(cur.fetchall())"
   ]
  },
  {
   "cell_type": "markdown",
   "metadata": {},
   "source": [
    "#### 3.2. Cоставьте запрос SELECT к нескольким таблицам, чтобы информация объединялась"
   ]
  },
  {
   "cell_type": "markdown",
   "metadata": {},
   "source": [
    "Как в среднем женщины оценили предложение 3?"
   ]
  },
  {
   "cell_type": "code",
   "execution_count": 74,
   "metadata": {},
   "outputs": [
    {
     "name": "stdout",
     "output_type": "stream",
     "text": [
      "[(3.1818181818181817,)]\n"
     ]
    }
   ],
   "source": [
    "query = r\"\"\"\n",
    "SELECT AVG(rating)\n",
    "FROM respondents\n",
    "INNER JOIN answers ON respondent_id = respondents.id\n",
    "WHERE respondents.sex = 'w' and answers.proposition_id = 3\n",
    "\"\"\"\n",
    "cur.execute(query)\n",
    "print(cur.fetchall())"
   ]
  },
  {
   "cell_type": "markdown",
   "metadata": {},
   "source": [
    "#### 3.3. Попробуйте изменить какую-то строку в базе"
   ]
  },
  {
   "cell_type": "markdown",
   "metadata": {},
   "source": [
    "Сделаем оценку 2 там, где она 1:"
   ]
  },
  {
   "cell_type": "code",
   "execution_count": 71,
   "metadata": {},
   "outputs": [],
   "source": [
    "query = r\"\"\"\n",
    "update answers\n",
    "set rating = 2\n",
    "where rating = 1\n",
    "\"\"\"\n",
    "cur.execute(query)\n",
    "conn.commit()"
   ]
  },
  {
   "cell_type": "markdown",
   "metadata": {},
   "source": [
    "#### 3.4. Достаньте время реакции по одному из вопросов отдельно для мужчин, отдельно для женщин и постройте боксплот для двух групп"
   ]
  },
  {
   "cell_type": "code",
   "execution_count": 86,
   "metadata": {},
   "outputs": [
    {
     "data": {
      "image/png": "[encoded data removed]",
      "text/plain": [
       "<Figure size 720x432 with 1 Axes>"
      ]
     },
     "metadata": {
      "needs_background": "light"
     },
     "output_type": "display_data"
    }
   ],
   "source": [
    "import matplotlib.pyplot as plt\n",
    "import seaborn as sns\n",
    "\n",
    "query_male = r\"\"\"\n",
    "SELECT time\n",
    "FROM answers\n",
    "INNER JOIN respondents ON respondent_id = respondents.id\n",
    "WHERE sex = 'm' and answers.proposition_id = 1\n",
    "\"\"\"\n",
    "\n",
    "query_female = r\"\"\"\n",
    "SELECT time\n",
    "FROM answers\n",
    "INNER JOIN respondents ON respondent_id = respondents.id\n",
    "WHERE sex = 'w' and answers.proposition_id = 1\n",
    "\"\"\"\n",
    "\n",
    "sex_time = {\n",
    "    \"sex\": [],\n",
    "    \"time\": []\n",
    "}\n",
    "cur.execute(query_male)\n",
    "result = cur.fetchall()\n",
    "for r in result:\n",
    "    sex_time['sex'].append('male')\n",
    "    sex_time['time'].append(r[0])\n",
    "\n",
    "\n",
    "cur.execute(query_female)\n",
    "result = cur.fetchall()\n",
    "\n",
    "for r in result:\n",
    "    sex_time['sex'].append('female')\n",
    "    sex_time['time'].append(r[0])\n",
    "    \n",
    "sex_df = pd.DataFrame(sex_time)\n",
    "\n",
    "plt.figure(figsize=(10, 6))\n",
    "sns.boxplot(x='sex', y=\"time\", data=sex_df)\n",
    "plt.ylim((0, 6))\n",
    "plt.title('Время реакции на первый вопрос для мужчин и женщин')\n",
    "plt.ylabel('Время')\n",
    "plt.xlabel('Пол');"
   ]
  },
  {
   "cell_type": "code",
   "execution_count": 87,
   "metadata": {},
   "outputs": [],
   "source": [
    "conn.close()"
   ]
  }
 ],
 "metadata": {
  "kernelspec": {
   "display_name": "Python 3",
   "language": "python",
   "name": "python3"
  },
  "language_info": {
   "codemirror_mode": {
    "name": "ipython",
    "version": 3
   },
   "file_extension": ".py",
   "mimetype": "text/x-python",
   "name": "python",
   "nbconvert_exporter": "python",
   "pygments_lexer": "ipython3",
   "version": "3.7.4"
  }
 },
 "nbformat": 4,
 "nbformat_minor": 4
}
