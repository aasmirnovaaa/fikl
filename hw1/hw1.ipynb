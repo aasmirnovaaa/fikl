{
 "cells": [
  {
   "cell_type": "markdown",
   "metadata": {},
   "source": [
    "* Переименуем для удобства файл в hw_3_twitter.txt, так как по факту это не JSON, а текстовый файл, в котором каждая строка - JSON.\n",
    "* Импортируем модуль JSON для преобразования строк в объекты.\n",
    "* Затем циклом пройдёмся по всем строкам и преобразуем, скидывая объекты в список с именем twits."
   ]
  },
  {
   "cell_type": "code",
   "execution_count": 24,
   "metadata": {},
   "outputs": [],
   "source": [
    "f = open('hw_3_twitter.txt')\n",
    "twits = []\n",
    "\n",
    "import json\n",
    "\n",
    "for line in f:\n",
    "    twit = json.loads(line)\n",
    "    twits.append(twit)"
   ]
  },
  {
   "cell_type": "markdown",
   "metadata": {},
   "source": [
    "#### 1. Сколько твитов в наборе?\n",
    "\n",
    "Можем сразу посчитать количество твитов:"
   ]
  },
  {
   "cell_type": "code",
   "execution_count": 25,
   "metadata": {},
   "outputs": [
    {
     "name": "stdout",
     "output_type": "stream",
     "text": [
      "2556\n"
     ]
    }
   ],
   "source": [
    "print(len(twits))"
   ]
  },
  {
   "cell_type": "markdown",
   "metadata": {},
   "source": [
    "#### 2. Какой процент твитов составляют удаленные записи? (помеченные как deleted)\n",
    "Нетрудно заметить, что твиты, которые deleted, состоят из всего одной пары ключ-значение."
   ]
  },
  {
   "cell_type": "code",
   "execution_count": 33,
   "metadata": {},
   "outputs": [
    {
     "name": "stdout",
     "output_type": "stream",
     "text": [
      "14.162754303599375\n"
     ]
    }
   ],
   "source": [
    "counter = 0\n",
    "for twit in twits:\n",
    "    if len(twit.items()) == 1:\n",
    "        counter += 1\n",
    "print(counter * 100 / len(twits))"
   ]
  },
  {
   "cell_type": "markdown",
   "metadata": {},
   "source": [
    "#### 3. Какие самые популярные языки твитов?\n",
    "Очевидно, что у каждого твита только один язык. Это облегчит нам задачу. Мы можем просто за один проход составить dict с парами язык-количество твитов, увеличивая количество твитов на единицу, как только нам попадается соответствующий язык."
   ]
  },
  {
   "cell_type": "code",
   "execution_count": 94,
   "metadata": {},
   "outputs": [
    {
     "name": "stdout",
     "output_type": "stream",
     "text": [
      "1 en 719\n",
      "2 ja 438\n",
      "3 es 173\n",
      "4 ko 149\n",
      "5 th 123\n",
      "6 ar 119\n",
      "7 und 117\n",
      "8 in 71\n",
      "9 pt 69\n",
      "10 fr 35\n"
     ]
    }
   ],
   "source": [
    "count_of_langs = {}\n",
    "for twit in twits:\n",
    "    if twit.get('lang'):  # функция get() с одним аргументом отдаёт 0, если нет пары ключ-значение с таким ключом\n",
    "        lang = twit['lang']\n",
    "        if count_of_langs.get(lang):\n",
    "            count_of_langs[lang] += 1\n",
    "        else:\n",
    "            count_of_langs[lang] = 1\n",
    "\n",
    "# Отсортируем же\n",
    "import operator\n",
    "sorted_count_of_langs = sorted(count_of_langs.items(), key=operator.itemgetter(1),reverse=True)\n",
    "top10 = sorted_count_of_langs[:10]\n",
    "# Распечатаем топчик\n",
    "for i in range(len(top10)):\n",
    "    print(i+1,top10[i][0],top10[i][1])"
   ]
  },
  {
   "cell_type": "markdown",
   "metadata": {},
   "source": [
    "#### 4. Есть ли твиты от одного и того же пользователя? Если да, то сколько таких пользователей?\n",
    "Подход строго аналогичный."
   ]
  },
  {
   "cell_type": "code",
   "execution_count": 98,
   "metadata": {},
   "outputs": [
    {
     "name": "stdout",
     "output_type": "stream",
     "text": [
      "25\n"
     ]
    }
   ],
   "source": [
    "count_of_users = {}\n",
    "\n",
    "for twit in twits:\n",
    "    if twit.get('user'):\n",
    "        user_id = twit['user']['id']\n",
    "        if count_of_users.get(user_id): \n",
    "            count_of_users[user_id] += 1\n",
    "        else:\n",
    "            count_of_users[user_id] = 1\n",
    "            \n",
    "count_of_users_gt_1 = 0\n",
    "for key,value in count_of_users.items():\n",
    "    if value > 1:\n",
    "        count_of_users_gt_1 += 1\n",
    "        \n",
    "print(count_of_users_gt_1)\n"
   ]
  },
  {
   "cell_type": "markdown",
   "metadata": {},
   "source": [
    "#### 5. Топ-20 хэштегов (для них есть специальное поле)\n"
   ]
  },
  {
   "cell_type": "code",
   "execution_count": 111,
   "metadata": {},
   "outputs": [
    {
     "name": "stdout",
     "output_type": "stream",
     "text": [
      "1 BTS 17\n",
      "2 방탄소년단 13\n",
      "3 AMAs 11\n",
      "4 人気投票ガチャ 8\n",
      "5 태형 7\n",
      "6 뷔 6\n",
      "7 BTSinChicago 5\n",
      "8 BTSLoveYourselfTour 5\n",
      "9 오늘의방탄 5\n",
      "10 PledgeForSwachhBharat 5\n",
      "11 MPN 5\n",
      "12 PCAs 4\n",
      "13 V 4\n",
      "14 시카고1회차공연 4\n",
      "15 เป๊กผลิตโชค 4\n",
      "16 JIMIN 4\n",
      "17 running 3\n",
      "18 NCT 3\n",
      "19 지민 3\n",
      "20 WajahmuPlastik 3\n"
     ]
    }
   ],
   "source": [
    "count_of_hashtags = {}\n",
    "\n",
    "for twit in twits:\n",
    "    if twit.get('entities'): # энтити есть?\n",
    "        entities = twit['entities']\n",
    "        if entities.get('hashtags'): # хэштеги есть?\n",
    "            hashtags = entities['hashtags']\n",
    "            if hashtags != []: # а они не пустые?\n",
    "                for hashtag in hashtags:\n",
    "                    text = hashtag['text'] # выдернем текст\n",
    "                    if count_of_hashtags.get(text): # и тут как обычно\n",
    "                        count_of_hashtags[text] += 1\n",
    "                    else:\n",
    "                        count_of_hashtags[text] = 1\n",
    "                                        \n",
    "import operator\n",
    "sorted_count_of_hashtags = sorted(count_of_hashtags.items(), key=operator.itemgetter(1),reverse=True)\n",
    "top20 = sorted_count_of_hashtags[:20]\n",
    "\n",
    "for i in range(len(top20)):\n",
    "    print(i+1,top20[i][0],top20[i][1])"
   ]
  },
  {
   "cell_type": "markdown",
   "metadata": {},
   "source": []
  }
 ],
 "metadata": {
  "kernelspec": {
   "display_name": "Python 3",
   "language": "python",
   "name": "python3"
  },
  "language_info": {
   "codemirror_mode": {
    "name": "ipython",
    "version": 3
   },
   "file_extension": ".py",
   "mimetype": "text/x-python",
   "name": "python",
   "nbconvert_exporter": "python",
   "pygments_lexer": "ipython3",
   "version": "3.7.4"
  }
 },
 "nbformat": 4,
 "nbformat_minor": 2
}
