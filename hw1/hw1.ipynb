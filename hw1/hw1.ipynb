{
 "cells": [
  {
   "cell_type": "markdown",
   "metadata": {},
   "source": [
    "* Переименуем для удобства файл в hw_3_twitter.txt, так как по факту это не JSON, а текстовый файл, в котором каждая строка - JSON.\n",
    "* Импортируем модуль JSON для преобразования строк в объекты.\n",
    "* Затем циклом пройдёмся по всем строкам и преобразуем, скидывая объекты в список с именем twits."
   ]
  },
  {
   "cell_type": "code",
   "execution_count": 2,
   "metadata": {},
   "outputs": [
    {
     "name": "stdout",
     "output_type": "stream",
     "text": [
      "The pycodestyle_magic extension is already loaded. To reload it, use:\n",
      "  %reload_ext pycodestyle_magic\n"
     ]
    }
   ],
   "source": [
    "%load_ext pycodestyle_magic\n",
    "%pycodestyle_on"
   ]
  },
  {
   "cell_type": "code",
   "execution_count": 1,
   "metadata": {},
   "outputs": [],
   "source": [
    "import json\n",
    "\n",
    "f = open('hw_3_twitter.txt')\n",
    "twits = []\n",
    "\n",
    "for line in f:\n",
    "    twit = json.loads(line)\n",
    "    twits.append(twit)"
   ]
  },
  {
   "cell_type": "markdown",
   "metadata": {},
   "source": [
    "#### 1. Сколько твитов в наборе?\n",
    "\n",
    "Можем сразу посчитать количество твитов:"
   ]
  },
  {
   "cell_type": "code",
   "execution_count": 2,
   "metadata": {},
   "outputs": [
    {
     "name": "stdout",
     "output_type": "stream",
     "text": [
      "2556\n"
     ]
    }
   ],
   "source": [
    "print(len(twits))"
   ]
  },
  {
   "cell_type": "markdown",
   "metadata": {},
   "source": [
    "#### 2. Какой процент твитов составляют удаленные записи? (помеченные как deleted)\n",
    "Нетрудно заметить, что твиты, которые deleted, состоят из всего одной пары ключ-значение."
   ]
  },
  {
   "cell_type": "code",
   "execution_count": 3,
   "metadata": {},
   "outputs": [
    {
     "name": "stdout",
     "output_type": "stream",
     "text": [
      "14.162754303599375\n"
     ]
    }
   ],
   "source": [
    "counter = 0\n",
    "for twit in twits:\n",
    "    if len(twit.items()) == 1:\n",
    "        counter += 1\n",
    "print(counter * 100 / len(twits))"
   ]
  },
  {
   "cell_type": "markdown",
   "metadata": {},
   "source": [
    "#### 3. Какие самые популярные языки твитов?\n",
    "Очевидно, что у каждого твита только один язык. Это облегчит нам задачу. Мы можем просто за один проход составить dict с парами язык-количество твитов, увеличивая количество твитов на единицу, как только нам попадается соответствующий язык."
   ]
  },
  {
   "cell_type": "code",
   "execution_count": 4,
   "metadata": {},
   "outputs": [
    {
     "name": "stdout",
     "output_type": "stream",
     "text": [
      "1 en 719\n",
      "2 ja 438\n",
      "3 es 173\n",
      "4 ko 149\n",
      "5 th 123\n",
      "6 ar 119\n",
      "7 und 117\n",
      "8 in 71\n",
      "9 pt 69\n",
      "10 fr 35\n"
     ]
    }
   ],
   "source": [
    "import operator\n",
    "\n",
    "count_of_langs = {}\n",
    "for twit in twits:\n",
    "    if twit.get('lang'):  # используем get() для проверки существования ключа\n",
    "        lang = twit['lang']\n",
    "        if count_of_langs.get(lang):\n",
    "            count_of_langs[lang] += 1\n",
    "        else:\n",
    "            count_of_langs[lang] = 1\n",
    "\n",
    "# Отсортируем же\n",
    "sorted_count_of_langs = sorted(count_of_langs.items(),\n",
    "                               key=operator.itemgetter(1), reverse=True)\n",
    "top10 = sorted_count_of_langs[:10]\n",
    "# Распечатаем топчик\n",
    "for i in range(len(top10)):\n",
    "    print(i+1, top10[i][0], top10[i][1])"
   ]
  },
  {
   "cell_type": "markdown",
   "metadata": {},
   "source": [
    "#### 4. Есть ли твиты от одного и того же пользователя? Если да, то сколько таких пользователей?\n",
    "Подход строго аналогичный."
   ]
  },
  {
   "cell_type": "code",
   "execution_count": 42,
   "metadata": {},
   "outputs": [],
   "source": [
    "count_of_users = {}\n",
    "\n",
    "for twit in twits:\n",
    "    if twit.get('user'):\n",
    "        user_id = twit['user']['id']\n",
    "        if count_of_users.get(user_id):\n",
    "            count_of_users[user_id] += 1\n",
    "        else:\n",
    "            count_of_users[user_id] = 1\n",
    "\n",
    "count_of_users_gt_1 = 0\n",
    "for key, value in count_of_users.items():\n",
    "    if value > 1:\n",
    "        count_of_users_gt_1 += 1\n",
    "\n",
    "print(count_of_users_gt_1)"
   ]
  },
  {
   "cell_type": "markdown",
   "metadata": {},
   "source": [
    "#### 5. Топ-20 хэштегов (для них есть специальное поле)\n",
    "Почти то же самое, но с более глубоким погружением в структуру."
   ]
  },
  {
   "cell_type": "code",
   "execution_count": 5,
   "metadata": {},
   "outputs": [
    {
     "name": "stdout",
     "output_type": "stream",
     "text": [
      "1 BTS 17\n",
      "2 방탄소년단 13\n",
      "3 AMAs 11\n",
      "4 人気投票ガチャ 8\n",
      "5 태형 7\n",
      "6 뷔 6\n",
      "7 BTSinChicago 5\n",
      "8 BTSLoveYourselfTour 5\n",
      "9 오늘의방탄 5\n",
      "10 PledgeForSwachhBharat 5\n",
      "11 MPN 5\n",
      "12 PCAs 4\n",
      "13 V 4\n",
      "14 시카고1회차공연 4\n",
      "15 เป๊กผลิตโชค 4\n",
      "16 JIMIN 4\n",
      "17 running 3\n",
      "18 NCT 3\n",
      "19 지민 3\n",
      "20 WajahmuPlastik 3\n"
     ]
    }
   ],
   "source": [
    "import operator\n",
    "\n",
    "count_of_hashtags = {}\n",
    "\n",
    "for twit in twits:\n",
    "    if twit.get('entities'):  # энтити есть?\n",
    "        entities = twit['entities']\n",
    "        if entities.get('hashtags'):  # хэштеги есть?\n",
    "            hashtags = entities['hashtags']\n",
    "            if hashtags != []:  # а они не пустые?\n",
    "                for hashtag in hashtags:\n",
    "                    text = hashtag['text']  # выдернем текст\n",
    "                    if count_of_hashtags.get(text):  # и тут как обычно\n",
    "                        count_of_hashtags[text] += 1\n",
    "                    else:\n",
    "                        count_of_hashtags[text] = 1\n",
    "\n",
    "sorted_count_of_hashtags = sorted(count_of_hashtags.items(),\n",
    "                                  key=operator.itemgetter(1), reverse=True)\n",
    "top20 = sorted_count_of_hashtags[:20]\n",
    "\n",
    "for i in range(len(top20)):\n",
    "    print(i+1, top20[i][0], top20[i][1])"
   ]
  },
  {
   "cell_type": "markdown",
   "metadata": {},
   "source": [
    "#### 6. Предобработать тексты оригинальных твитов (не ретвитов) на английском языке (убрать пунктуацию, привести к нижнему регистру) и составить частотный словарь"
   ]
  },
  {
   "cell_type": "code",
   "execution_count": 23,
   "metadata": {},
   "outputs": [
    {
     "name": "stdout",
     "output_type": "stream",
     "text": [
      "1 the 106\n",
      "2 to 79\n",
      "3 a 65\n",
      "4 i 60\n",
      "5 and 57\n",
      "6 you 45\n",
      "7 for 40\n",
      "8 is 40\n",
      "9 of 40\n",
      "10 it 37\n"
     ]
    }
   ],
   "source": [
    "import operator\n",
    "import string\n",
    "\n",
    "punct_chars = string.punctuation\n",
    "\n",
    "final_words = []\n",
    "count_of_final_words = {}\n",
    "\n",
    "for twit in twits:\n",
    "    if ('en' == twit.get('lang')\n",
    "       and not twit.get('retweeted_status')\n",
    "       and not twit.get('quoted_status')):\n",
    "        words = twit['text'].split()  # разобьём на слова\n",
    "        for word in words:\n",
    "            word = word.strip(punct_chars)\n",
    "            word = word.lower()  # в нижний регистр\n",
    "            if '' != word:\n",
    "                final_words.append(word)\n",
    "\n",
    "\n",
    "for word in final_words:\n",
    "    if(count_of_final_words.get(word)):\n",
    "        count_of_final_words[word] += 1\n",
    "    else:\n",
    "        count_of_final_words[word] = 1\n",
    "\n",
    "sorted_count_of_final_words = sorted(count_of_final_words.items(),\n",
    "                                     key=operator.itemgetter(1), reverse=True)\n",
    "top10 = sorted_count_of_final_words[:10]\n",
    "\n",
    "for i in range(len(top10)):\n",
    "    print(i+1, top10[i][0], top10[i][1])"
   ]
  },
  {
   "cell_type": "markdown",
   "metadata": {},
   "source": [
    "#### 7. Найти количество подписчиков (фолловеров) у авторов твитов и вывести топ-10\n",
    "Почти то же, что и 5."
   ]
  },
  {
   "cell_type": "code",
   "execution_count": 22,
   "metadata": {},
   "outputs": [
    {
     "name": "stdout",
     "output_type": "stream",
     "text": [
      "1 Filosofía♕ 2521403\n",
      "2 FITNESS Magazine 1491309\n",
      "3 malaysiakini.com 1206759\n",
      "4 NYT Science 1137374\n",
      "5 Gramática 625463\n",
      "6 TGRT Haber 392472\n",
      "7 The Sun Football ⚽ 383698\n",
      "8 Melbourne, Australia 374222\n",
      "9 Roznama Express 318189\n",
      "10 💞 ცųཞɠɛཞცơơɠıɛ 💞 311319\n"
     ]
    }
   ],
   "source": [
    "import operator\n",
    "\n",
    "count_of_followers = {}\n",
    "\n",
    "for twit in twits:\n",
    "    if twit.get('user'):  # юзер есть?\n",
    "        user = twit['user']\n",
    "        if user.get('id') and user.get('followers_count'):  # фолловеры есть?\n",
    "            count_of_followers[user['name']] = user['followers_count']\n",
    "\n",
    "sorted_count_of_followers = sorted(count_of_followers.items(),\n",
    "                                   key=operator.itemgetter(1), reverse=True)\n",
    "top10 = sorted_count_of_followers[:10]\n",
    "\n",
    "for i in range(len(top10)):\n",
    "    print(i+1, top10[i][0], top10[i][1])"
   ]
  },
  {
   "cell_type": "markdown",
   "metadata": {},
   "source": [
    "#### 8.* Топ-10 источников твита (из какого приложения написан) (подсказка: для обработки используйте регулярные выражения)\n",
    "\n",
    "Для работы с регэксами подключается модуль re.\n",
    "Из поля source вот такого вида:\n",
    "\n",
    "```html\n",
    "<a href=\"http://twitter.com/download/android\" rel=\"nofollow\">Twitter for Android</a>\n",
    "```\n",
    "\n",
    "нам надо вытащить то, что, грубо говоря, между > и <.\n",
    "Строим регэкс вида:\n",
    "```\n",
    "\"строка, начинающаяся с <a, потом много любых символов, потом >, потом ТО, ЧТО НАМ НУЖНО, до </a>, ну а тут и конец строки\".\n",
    "```"
   ]
  },
  {
   "cell_type": "code",
   "execution_count": 25,
   "metadata": {},
   "outputs": [
    {
     "name": "stdout",
     "output_type": "stream",
     "text": [
      "1 Twitter for iPhone 800\n",
      "2 Twitter for Android 695\n",
      "3 Twitter Web Client 140\n",
      "4 twittbot.net 122\n",
      "5 Twitter Lite 51\n",
      "6 Twitter for iPad 28\n",
      "7 TweetDeck 23\n",
      "8 Facebook 17\n",
      "9 IFTTT 14\n",
      "10 تطبيق قرآني 10\n"
     ]
    }
   ],
   "source": [
    "import re\n",
    "import operator\n",
    "\n",
    "count_of_sources = {}\n",
    "sources = []\n",
    "\n",
    "for twit in twits:\n",
    "    if twit.get('source'):\n",
    "        html_string = twit['source']\n",
    "        regex = re.compile(r'^<a.*\">(.*)<\\/a>$')\n",
    "        source = regex.findall(html_string)\n",
    "        sources += source\n",
    "\n",
    "for source in sources:\n",
    "    if count_of_sources.get(source):  # и тут как обычно\n",
    "        count_of_sources[source] += 1\n",
    "    else:\n",
    "        count_of_sources[source] = 1\n",
    "\n",
    "sorted_count_of_sources = sorted(count_of_sources.items(),\n",
    "                                 key=operator.itemgetter(1), reverse=True)\n",
    "top10 = sorted_count_of_sources[:10]\n",
    "\n",
    "for i in range(len(top10)):\n",
    "    print(i+1, top10[i][0], top10[i][1])"
   ]
  }
 ],
 "metadata": {
  "kernelspec": {
   "display_name": "Python 3",
   "language": "python",
   "name": "python3"
  },
  "language_info": {
   "codemirror_mode": {
    "name": "ipython",
    "version": 3
   },
   "file_extension": ".py",
   "mimetype": "text/x-python",
   "name": "python",
   "nbconvert_exporter": "python",
   "pygments_lexer": "ipython3",
   "version": "3.7.4"
  }
 },
 "nbformat": 4,
 "nbformat_minor": 2
}
